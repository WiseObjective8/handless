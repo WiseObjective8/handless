{
 "cells": [
  {
   "cell_type": "code",
   "execution_count": null,
   "metadata": {},
   "outputs": [],
   "source": [
    "import cv2 as cv\n",
    "import numpy as np\n",
    "import matplotlib.pyplot as plt\n",
    "import time\n",
    "import mediapipe as mp\n",
    "import pyautogui as pa\n",
    "import mouse\n",
    "import os\n",
    "plt.rcParams[\"figure.figsize\"]=(10,10)"
   ]
  },
  {
   "cell_type": "code",
   "execution_count": null,
   "metadata": {},
   "outputs": [],
   "source": [
    "IMAGES = []\n",
    "for file in os.listdir(\"./imgs\"):\n",
    "    path = os.path.join(\"imgs\",file)\n",
    "    if os.path.isfile(path):\n",
    "        IMAGES.append(path)\n",
    "for i,j in enumerate(IMAGES,start=1):\n",
    "    _,ext=os.path.splitext(j)\n",
    "    new = f\"{i:03d}{ext}\"\n",
    "    path = os.path.join(\"imgs\",new)\n",
    "    os.rename(j,path)\n",
    "IMAGES = IMAGES\n",
    "IMAGES"
   ]
  },
  {
   "cell_type": "code",
   "execution_count": null,
   "metadata": {},
   "outputs": [],
   "source": [
    "mp_drawing = mp.solutions.drawing_utils\n",
    "mp_drawing_styles = mp.solutions.drawing_styles\n",
    "mp_face_mesh = mp.solutions.face_mesh\n",
    "drawing_spec = mp_drawing.DrawingSpec(thickness=1, circle_radius=1)"
   ]
  },
  {
   "cell_type": "code",
   "execution_count": null,
   "metadata": {},
   "outputs": [],
   "source": [
    "face_mesh = mp_face_mesh.FaceMesh(\n",
    "    static_image_mode=True,\n",
    "    max_num_faces=1,\n",
    "    refine_landmarks=True,\n",
    "    min_detection_confidence=0.5)\n"
   ]
  },
  {
   "cell_type": "code",
   "execution_count": null,
   "metadata": {},
   "outputs": [],
   "source": [
    "w,h = pa.size()"
   ]
  },
  {
   "cell_type": "code",
   "execution_count": null,
   "metadata": {},
   "outputs": [],
   "source": [
    "for idx, file in enumerate(IMAGES):\n",
    "    image = cv.imread(file)\n",
    "    results = face_mesh.process(cv.cvtColor(image, cv.COLOR_BGR2RGB))\n",
    "    if not results.multi_face_landmarks:\n",
    "        continue\n",
    "    xVal = []\n",
    "    yVal = []\n",
    "    zVal = []\n",
    "    xS = []\n",
    "    yS = []\n",
    "    for land in results.multi_face_landmarks:\n",
    "        print(type(land.landmark))\n",
    "        count = 0\n",
    "        for i in land.landmark:\n",
    "            xVal.append(i.x)\n",
    "            yVal.append(i.y)\n",
    "            zVal.append(i.z)\n",
    "            if count == 1:  #nose tip, refer \"./mesh.jpg\"\n",
    "                xS.append(i.x)\n",
    "                yS.append(i.y)\n",
    "    plt.gca().invert_yaxis()\n",
    "    plt.scatter(xVal, yVal)\n",
    "    plt.scatter(xS, yS)\n",
    "    "
   ]
  },
  {
   "cell_type": "code",
   "execution_count": null,
   "metadata": {},
   "outputs": [],
   "source": [
    "nose_x, nose_y = int(nose_tip.x * screen_width), int(nose_tip.y * screen_height)\n",
    "pa.moveTo(nose_x, nose_y)"
   ]
  }
 ],
 "metadata": {
  "kernelspec": {
   "display_name": "venv",
   "language": "python",
   "name": "python3"
  },
  "language_info": {
   "codemirror_mode": {
    "name": "ipython",
    "version": 3
   },
   "file_extension": ".py",
   "mimetype": "text/x-python",
   "name": "python",
   "nbconvert_exporter": "python",
   "pygments_lexer": "ipython3",
   "version": "3.9.12"
  }
 },
 "nbformat": 4,
 "nbformat_minor": 2
}
